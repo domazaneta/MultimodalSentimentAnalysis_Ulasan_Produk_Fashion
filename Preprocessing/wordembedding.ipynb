{
  "nbformat": 4,
  "nbformat_minor": 0,
  "metadata": {
    "colab": {
      "provenance": []
    },
    "kernelspec": {
      "name": "python3",
      "display_name": "Python 3"
    },
    "language_info": {
      "name": "python"
    }
  },
  "cells": [
    {
      "cell_type": "code",
      "execution_count": null,
      "metadata": {
        "id": "eWYdo9JsTPJt"
      },
      "outputs": [],
      "source": [
        "# Get the path of current working directory\n",
        "embed_model_dir = '/content/drive/My Drive/Tuhan_Yesus_tolong_skripsi_dek_Doma/models/text_model/idwiki_word2vec_200.model'"
      ]
    },
    {
      "cell_type": "markdown",
      "metadata": {
        "id": "2nZRNSJIWQ5Z"
      },
      "source": [
        "#### **WORD EMBEDDING**"
      ]
    },
    {
      "cell_type": "code",
      "execution_count": null,
      "metadata": {
        "id": "zUFQ-IfwTvvs"
      },
      "outputs": [],
      "source": [
        "id_w2v = gensim.models.word2vec.Word2Vec.load(embed_model_dir)\n",
        "\n",
        "# Get the vocabulary\n",
        "vocabulary = list(id_w2v.wv.key_to_index)\n",
        "\n",
        "# Get the embedding matrix\n",
        "embedding = id_w2v.wv.vectors"
      ]
    },
    {
      "cell_type": "code",
      "source": [
        "if id_w2v.sg == 1:\n",
        "    print(\"Skip-gram architecture\")\n",
        "else:\n",
        "    print(\"CBOW architecture\")"
      ],
      "metadata": {
        "colab": {
          "base_uri": "https://localhost:8080/"
        },
        "id": "DKomGG-WaJqH",
        "outputId": "4ec5b835-3e5e-4e0c-e6bd-9326751995ba"
      },
      "execution_count": null,
      "outputs": [
        {
          "output_type": "stream",
          "name": "stdout",
          "text": [
            "CBOW architecture\n"
          ]
        }
      ]
    },
    {
      "cell_type": "code",
      "execution_count": null,
      "metadata": {
        "colab": {
          "base_uri": "https://localhost:8080/"
        },
        "id": "DJPGg9nl5QG5",
        "outputId": "fdcf6905-0ebf-4ee8-9863-435392684d2d"
      },
      "outputs": [
        {
          "output_type": "execute_result",
          "data": {
            "text/plain": [
              "array([[-0.51184994,  0.52738905,  0.4706604 , ...,  0.83356225,\n",
              "        -0.36264274, -1.2209927 ],\n",
              "       [ 0.88880444,  1.154904  ,  2.1593137 , ...,  0.32736978,\n",
              "        -0.09377704, -0.16351561],\n",
              "       [-1.7392755 ,  0.41833478,  1.9327326 , ...,  0.96570206,\n",
              "         0.46503556,  0.373974  ],\n",
              "       ...,\n",
              "       [-0.06575699, -0.05095696, -0.0854238 , ...,  0.01542541,\n",
              "        -0.00656477,  0.02005137],\n",
              "       [ 0.04443026,  0.03643559, -0.00681167, ...,  0.00828603,\n",
              "         0.0167241 ,  0.0107005 ],\n",
              "       [ 0.01924336,  0.01980309, -0.01351   , ...,  0.05486092,\n",
              "         0.03454416, -0.03331215]], dtype=float32)"
            ]
          },
          "metadata": {},
          "execution_count": 100
        }
      ],
      "source": [
        "embedding"
      ]
    },
    {
      "cell_type": "code",
      "execution_count": null,
      "metadata": {
        "colab": {
          "base_uri": "https://localhost:8080/"
        },
        "id": "sWoaym1O7EJW",
        "outputId": "24754946-3593-4db9-ab3a-8736ba290ee2"
      },
      "outputs": [
        {
          "output_type": "execute_result",
          "data": {
            "text/plain": [
              "(331792, 200)"
            ]
          },
          "metadata": {},
          "execution_count": 101
        }
      ],
      "source": [
        "embedding.shape"
      ]
    },
    {
      "cell_type": "code",
      "execution_count": null,
      "metadata": {
        "colab": {
          "base_uri": "https://localhost:8080/"
        },
        "id": "Qcmmzb3g5puC",
        "outputId": "47ba2fc2-f80c-4083-dc17-976f32c4ac94"
      },
      "outputs": [
        {
          "output_type": "execute_result",
          "data": {
            "text/plain": [
              "331792"
            ]
          },
          "metadata": {},
          "execution_count": 102
        }
      ],
      "source": [
        "len(vocabulary)"
      ]
    }
  ]
}