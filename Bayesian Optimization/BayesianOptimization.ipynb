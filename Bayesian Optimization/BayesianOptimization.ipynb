{
  "nbformat": 4,
  "nbformat_minor": 0,
  "metadata": {
    "colab": {
      "provenance": []
    },
    "kernelspec": {
      "name": "python3",
      "display_name": "Python 3"
    },
    "language_info": {
      "name": "python"
    }
  },
  "cells": [
    {
      "cell_type": "markdown",
      "metadata": {
        "id": "jgDYw-kC-ZKP"
      },
      "source": [
        "### ***Import Libraries***"
      ]
    },
    {
      "cell_type": "code",
      "execution_count": null,
      "metadata": {
        "colab": {
          "base_uri": "https://localhost:8080/"
        },
        "id": "h2ObrkDDX_-h",
        "outputId": "c3d50c80-8a37-4be9-e2d5-44e21ee06863"
      },
      "outputs": [
        {
          "output_type": "stream",
          "name": "stdout",
          "text": [
            "Collecting keras-tuner\n",
            "  Downloading keras_tuner-1.3.5-py3-none-any.whl (176 kB)\n",
            "\u001b[2K     \u001b[90m━━━━━━━━━━━━━━━━━━━━━━━━━━━━━━━━━━━━━━━\u001b[0m \u001b[32m176.1/176.1 kB\u001b[0m \u001b[31m2.6 MB/s\u001b[0m eta \u001b[36m0:00:00\u001b[0m\n",
            "\u001b[?25hRequirement already satisfied: packaging in /usr/local/lib/python3.10/dist-packages (from keras-tuner) (23.1)\n",
            "Requirement already satisfied: requests in /usr/local/lib/python3.10/dist-packages (from keras-tuner) (2.31.0)\n",
            "Collecting kt-legacy (from keras-tuner)\n",
            "  Downloading kt_legacy-1.0.5-py3-none-any.whl (9.6 kB)\n",
            "Requirement already satisfied: charset-normalizer<4,>=2 in /usr/local/lib/python3.10/dist-packages (from requests->keras-tuner) (3.2.0)\n",
            "Requirement already satisfied: idna<4,>=2.5 in /usr/local/lib/python3.10/dist-packages (from requests->keras-tuner) (3.4)\n",
            "Requirement already satisfied: urllib3<3,>=1.21.1 in /usr/local/lib/python3.10/dist-packages (from requests->keras-tuner) (1.26.16)\n",
            "Requirement already satisfied: certifi>=2017.4.17 in /usr/local/lib/python3.10/dist-packages (from requests->keras-tuner) (2023.7.22)\n",
            "Installing collected packages: kt-legacy, keras-tuner\n",
            "Successfully installed keras-tuner-1.3.5 kt-legacy-1.0.5\n"
          ]
        }
      ],
      "source": [
        "pip install -U keras-tuner"
      ]
    },
    {
      "cell_type": "markdown",
      "source": [
        "### ***Hyperparameter Fine-Tuning***"
      ],
      "metadata": {
        "id": "v1BgdOK3stO1"
      }
    },
    {
      "cell_type": "code",
      "execution_count": null,
      "metadata": {
        "id": "iZ2lO7zj9Pmp",
        "colab": {
          "base_uri": "https://localhost:8080/"
        },
        "outputId": "5693cea9-a9c6-4c0e-dad3-070db7f93deb"
      },
      "outputs": [
        {
          "output_type": "stream",
          "name": "stderr",
          "text": [
            "<ipython-input-133-452feecf8b8e>:2: DeprecationWarning: `import kerastuner` is deprecated, please use `import keras_tuner`.\n",
            "  from kerastuner.tuners import RandomSearch\n"
          ]
        }
      ],
      "source": [
        "# Define a function to create your model\n",
        "from kerastuner.tuners import RandomSearch\n",
        "from tensorflow.keras.layers import Bidirectional\n",
        "from keras import regularizers\n",
        "\n",
        "def create_model(hp):\n",
        "    # input_dim = input_dim\n",
        "    # output_dim = output_dim\n",
        "    # embedding_weights = embedding\n",
        "    model = Sequential()\n",
        "    embedding_layer = Embedding(input_dim=input_dim, output_dim=embedding_dim, weights=[embedding], input_length=seq_len_train)\n",
        "    model.add(embedding_layer)\n",
        "    model.add(Bidirectional(LSTM(units=hp.Int('units',\n",
        "                                min_value=32,\n",
        "                                max_value=512,\n",
        "                                step=32))))\n",
        "    # model.add(tf.keras.layers.GlobalAveragePooling1D())\n",
        "    model.add(Dropout(rate=hp.Float('rate',\n",
        "                                min_value=0.1,\n",
        "                                max_value=0.7,\n",
        "                                step=0.1)))\n",
        "    model.add(Dense(64, kernel_regularizer=regularizers.L1(0.01), activation='relu'))\n",
        "    # model.add(Dense(units=64, activation='relu'))\n",
        "    # model.add(Dense(units=hp.Int('units',\n",
        "    #                             min_value=32,\n",
        "    #                             max_value=512,\n",
        "    #                             step=32), kernel_regularizer=regularizers.L1(0.01), activation='relu'))\n",
        "    model.add(Dense(units=3, activation='softmax'))\n",
        "    model.compile(loss='categorical_crossentropy', optimizer=tf.keras.optimizers.Adam(hp.Choice('learning_rate',\n",
        "                                                                                                values=[1e-1, 1e-2, 1e-3, 1e-4])), metrics=['accuracy'])\n",
        "    # model = Sequential()\n",
        "    # embedding_layer = Embedding(input_dim=input_dim, output_dim=embedding_dim, weights=[embedding], input_length=seq_len_train_reviews)\n",
        "    # model.add(embedding_layer)\n",
        "    # model.add(Bidirectional(LSTM(units=448)))\n",
        "    # model.add(Dense(units=3, activation='softmax'))\n",
        "    # model.add(Dropout(rate=hp.Float('rate',\n",
        "    #                             min_value=0.1,\n",
        "    #                             max_value=0.7,\n",
        "    #                             step=0.1)))\n",
        "    # model.compile(loss='categorical_crossentropy', optimizer=tf.keras.optimizers.Adam(learning_rate=1e-3), metrics=['accuracy'])\n",
        "\n",
        "    return model"
      ]
    },
    {
      "cell_type": "markdown",
      "metadata": {
        "id": "2rGe8iSyVnCW"
      },
      "source": [
        "### ***Bayesian Optimization***"
      ]
    },
    {
      "cell_type": "code",
      "execution_count": null,
      "metadata": {
        "id": "BLV0cUW1Vtkx"
      },
      "outputs": [],
      "source": [
        "import kerastuner as kt"
      ]
    },
    {
      "cell_type": "code",
      "execution_count": null,
      "metadata": {
        "id": "YCHrRESkWOAo"
      },
      "outputs": [],
      "source": [
        "tuner = kt.BayesianOptimization(\n",
        "    create_model,\n",
        "    objective=\"val_accuracy\",\n",
        "    max_trials=10,\n",
        "    overwrite=True\n",
        "    )"
      ]
    },
    {
      "cell_type": "code",
      "source": [
        "# X_train_rev_rest.shape"
      ],
      "metadata": {
        "id": "QKEb6ec6-2hh"
      },
      "execution_count": null,
      "outputs": []
    },
    {
      "cell_type": "code",
      "source": [
        "# padded_seq_test_rev.shape"
      ],
      "metadata": {
        "id": "tl_GGXyM-4mB"
      },
      "execution_count": null,
      "outputs": []
    },
    {
      "cell_type": "code",
      "source": [
        "# y_train_rev_rest.shape"
      ],
      "metadata": {
        "id": "tMoW9BF6_mVP"
      },
      "execution_count": null,
      "outputs": []
    },
    {
      "cell_type": "code",
      "source": [
        "# y_test_rev_oh.shape"
      ],
      "metadata": {
        "id": "1i6JtdpK_rt5"
      },
      "execution_count": null,
      "outputs": []
    },
    {
      "cell_type": "markdown",
      "source": [
        "#### **Search The Best Hyperparameters**"
      ],
      "metadata": {
        "id": "TkyuPPumFeaU"
      }
    },
    {
      "cell_type": "code",
      "source": [
        "tuner.search(X_train_rest, y_train_rest, epochs=10, validation_data=(X_valid, y_valid))"
      ],
      "metadata": {
        "id": "iRgGOSwVFWs7",
        "colab": {
          "base_uri": "https://localhost:8080/"
        },
        "outputId": "cb6a91ac-b7d7-4457-d9e3-3e8fa3c7aa02"
      },
      "execution_count": null,
      "outputs": [
        {
          "output_type": "stream",
          "name": "stdout",
          "text": [
            "Trial 10 Complete [00h 01m 15s]\n",
            "val_accuracy: 0.6592592597007751\n",
            "\n",
            "Best val_accuracy So Far: 0.6925926208496094\n",
            "Total elapsed time: 00h 12m 20s\n"
          ]
        }
      ]
    },
    {
      "cell_type": "code",
      "source": [
        "tuner.results_summary()"
      ],
      "metadata": {
        "id": "W3Qf9yjGFpEL",
        "colab": {
          "base_uri": "https://localhost:8080/"
        },
        "outputId": "c0e8e7b0-f03f-4a5a-f82d-3fcc0f4dbd56"
      },
      "execution_count": null,
      "outputs": [
        {
          "output_type": "stream",
          "name": "stdout",
          "text": [
            "Results summary\n",
            "Results in ./untitled_project\n",
            "Showing 10 best trials\n",
            "Objective(name=\"val_accuracy\", direction=\"max\")\n",
            "\n",
            "Trial 03 summary\n",
            "Hyperparameters:\n",
            "units: 288\n",
            "rate: 0.2\n",
            "learning_rate: 0.001\n",
            "Score: 0.6925926208496094\n",
            "\n",
            "Trial 06 summary\n",
            "Hyperparameters:\n",
            "units: 512\n",
            "rate: 0.2\n",
            "learning_rate: 0.001\n",
            "Score: 0.6851851940155029\n",
            "\n",
            "Trial 00 summary\n",
            "Hyperparameters:\n",
            "units: 384\n",
            "rate: 0.2\n",
            "learning_rate: 0.001\n",
            "Score: 0.6814814805984497\n",
            "\n",
            "Trial 04 summary\n",
            "Hyperparameters:\n",
            "units: 384\n",
            "rate: 0.1\n",
            "learning_rate: 0.001\n",
            "Score: 0.6814814805984497\n",
            "\n",
            "Trial 08 summary\n",
            "Hyperparameters:\n",
            "units: 128\n",
            "rate: 0.6\n",
            "learning_rate: 0.001\n",
            "Score: 0.6703703999519348\n",
            "\n",
            "Trial 01 summary\n",
            "Hyperparameters:\n",
            "units: 512\n",
            "rate: 0.6\n",
            "learning_rate: 0.0001\n",
            "Score: 0.6592592597007751\n",
            "\n",
            "Trial 09 summary\n",
            "Hyperparameters:\n",
            "units: 96\n",
            "rate: 0.1\n",
            "learning_rate: 0.0001\n",
            "Score: 0.6592592597007751\n",
            "\n",
            "Trial 05 summary\n",
            "Hyperparameters:\n",
            "units: 384\n",
            "rate: 0.30000000000000004\n",
            "learning_rate: 0.0001\n",
            "Score: 0.6370370388031006\n",
            "\n",
            "Trial 02 summary\n",
            "Hyperparameters:\n",
            "units: 288\n",
            "rate: 0.4\n",
            "learning_rate: 0.01\n",
            "Score: 0.6222222447395325\n",
            "\n",
            "Trial 07 summary\n",
            "Hyperparameters:\n",
            "units: 128\n",
            "rate: 0.30000000000000004\n",
            "learning_rate: 0.1\n",
            "Score: 0.45185184478759766\n"
          ]
        }
      ]
    }
  ]
}